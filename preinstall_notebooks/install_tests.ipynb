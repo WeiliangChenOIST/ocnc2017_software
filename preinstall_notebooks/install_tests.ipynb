{
 "cells": [
  {
   "cell_type": "code",
   "execution_count": null,
   "metadata": {
    "scrolled": true
   },
   "outputs": [],
   "source": [
    "# plot test\n",
    "import pylab\n",
    "pylab.plot([1,2,3,4], [1,2,3,4])\n",
    "pylab.show()"
   ]
  },
  {
   "cell_type": "code",
   "execution_count": null,
   "metadata": {},
   "outputs": [],
   "source": [
    "# STEPS\n",
    "import steps\n",
    "import steps.model as smodel\n",
    "mdl = smodel.Model()\n",
    "print mdl\n",
    "steps.__version__"
   ]
  },
  {
   "cell_type": "code",
   "execution_count": null,
   "metadata": {},
   "outputs": [],
   "source": [
    "# NEURON\n",
    "from neuron import h\n",
    "h(\"create soma\")\n",
    "h.soma"
   ]
  },
  {
   "cell_type": "code",
   "execution_count": null,
   "metadata": {},
   "outputs": [],
   "source": [
    "# NEST\n",
    "import pylab\n",
    "     \n",
    "import nest\n",
    "import nest.voltage_trace\n",
    "     \n",
    "weight = 20.0\n",
    "delay = 1.0\n",
    "stim = 1000.0\n",
    "     \n",
    "neuron1 = nest.Create(\"iaf_psc_alpha\")\n",
    "neuron2 = nest.Create(\"iaf_psc_alpha\")\n",
    "voltmeter = nest.Create(\"voltmeter\")\n",
    "     \n",
    "nest.SetStatus(neuron1, {\"I_e\": stim})\n",
    "nest.Connect(neuron1, neuron2, syn_spec={'weight': weight, 'delay': delay})\n",
    "nest.Connect(voltmeter, neuron2)\n",
    "     \n",
    "nest.Simulate(100.0)\n",
    " \n",
    "nest.voltage_trace.from_device(voltmeter)\n",
    "nest.voltage_trace.show()"
   ]
  },
  {
   "cell_type": "code",
   "execution_count": null,
   "metadata": {
    "collapsed": true
   },
   "outputs": [],
   "source": [
    "# Brian2\n",
    "# check tutorial notebooks in brian directory"
   ]
  }
 ],
 "metadata": {
  "kernelspec": {
   "display_name": "Python 2",
   "language": "python",
   "name": "python2"
  },
  "language_info": {
   "codemirror_mode": {
    "name": "ipython",
    "version": 2
   },
   "file_extension": ".py",
   "mimetype": "text/x-python",
   "name": "python",
   "nbconvert_exporter": "python",
   "pygments_lexer": "ipython2",
   "version": "2.7.13"
  }
 },
 "nbformat": 4,
 "nbformat_minor": 2
}
